{
  "cells": [
    {
      "cell_type": "code",
      "execution_count": 19,
      "metadata": {
        "colab": {
          "base_uri": "https://localhost:8080/"
        },
        "id": "iCjYLoI-SQ6q",
        "outputId": "453f1d98-2019-4e28-d80a-a4a7b1a55279"
      },
      "outputs": [
        {
          "name": "stderr",
          "output_type": "stream",
          "text": [
            "'wget' is not recognized as an internal or external command,\n",
            "operable program or batch file.\n"
          ]
        }
      ],
      "source": [
        "!wget https://www.kaggleusercontent.com/kf/123693371/eyJhbGciOiJkaXIiLCJlbmMiOiJBMTI4Q0JDLUhTMjU2In0..q8HeDL3Ubb2PbfQwwRaB6w.FXW1Yctb8eY1OLlKeNgUjh1w_F5f3gnC93zNP0nKb-SkuEOr-KXnQavsjdNxIGoXDF6a5TQR7BFyec1ZquGT-CKpXvU_rzh9pxW7wYpuLipgBPEdJW3yJ8n2LoZzs2wFDSsroExZrhS_TDhoCyo-tnUr4Bkq7NSACxR2Ja3KdjWe8WUWyVMi36gxe7DEyr0LY8t9KIChw4QqowCVZwrvMQ5k-kT7Mn5O42GeatLGCRJb8h3AOrAu6Lvx_OUMFiZlJncXkJoFlzhLtohzpg9IILZJZvl12KzTztFVlF2ZP50SYuP68opuUfCj41FyrVh8e08AfM2xW85iiZ_hqF2iUVDCh_PVlGND_ylZkCBRWYdKokwr_jJuKN996HVVmZ_XKHukfguE7cnRupt24jvZLemn_cPd7fAlFpqQj-JBf5y5bxklHE2x3FhJpkwiUieQV9KAgCJGwbgBjr0K_PrXMgZNI86ETaNYj8LBr7nYi3uMY_TNQuV4GDunikap551a6KsM48d4BAiqM_IrHa04NfdAEuUyXNtDzmhE_45m3aWiBr9O1sTSzXWp9QrArrEOOW0UHjH85s4jowFlZojVcyM637Y6bgCPkk2BtAvItD9idFUApZKpW3_MpVolWjMWjzlYFyXoPuRnwgMAON9R9v3pR1Z1A5U5s7MN4poiRo76zLFnMIHPTivyCLemyRXk.CgVMAclYNuTiGr4-QyOaYA/res_model.h5"
      ]
    },
    {
      "cell_type": "code",
      "execution_count": 20,
      "metadata": {
        "id": "StHbrrkwOrAb"
      },
      "outputs": [],
      "source": [
        "import numpy as np # linear algebra\n",
        "import pandas as pd # data processing, CSV file I/O (e.g. pd.read_csv)\n",
        "import librosa\n",
        "import librosa.display\n",
        "import matplotlib.pyplot as plt\n",
        "import plotly.graph_objects as go\n",
        "import plotly.express as px\n",
        "import plotly.figure_factory as ff\n",
        "import seaborn as sns\n",
        "import IPython\n",
        "#import tensorflow.keras.layers as L\n",
        "import tensorflow as tf\n",
        "#from tensorflow.keras.callbacks import EarlyStopping, ReduceLROnPlateau\n",
        "#from keras.utils import np_utils\n",
        "from sklearn.model_selection import train_test_split\n",
        "from sklearn.metrics import confusion_matrix\n",
        "from sklearn.metrics import classification_report\n",
        "from sklearn.preprocessing import LabelEncoder,StandardScaler\n",
        "import re\n",
        "import itertools\n",
        "%matplotlib inline\n",
        "import warnings\n",
        "warnings.filterwarnings('ignore')\n",
        "\n",
        "import os\n"
      ]
    },
    {
      "cell_type": "code",
      "execution_count": 21,
      "metadata": {
        "colab": {
          "base_uri": "https://localhost:8080/"
        },
        "id": "Q0jnuoYQPEl0",
        "outputId": "693d3153-b160-47dd-d860-15e1f34407fd"
      },
      "outputs": [
        {
          "name": "stdout",
          "output_type": "stream",
          "text": [
            "Model: \"sequential\"\n",
            "_________________________________________________________________\n",
            " Layer (type)                Output Shape              Param #   \n",
            "=================================================================\n",
            " conv1d (Conv1D)             (None, 2376, 512)         3072      \n",
            "                                                                 \n",
            " batch_normalization (Batch  (None, 2376, 512)         2048      \n",
            " Normalization)                                                  \n",
            "                                                                 \n",
            " max_pooling1d (MaxPooling1  (None, 1188, 512)         0         \n",
            " D)                                                              \n",
            "                                                                 \n",
            " conv1d_1 (Conv1D)           (None, 1188, 512)         1311232   \n",
            "                                                                 \n",
            " batch_normalization_1 (Bat  (None, 1188, 512)         2048      \n",
            " chNormalization)                                                \n",
            "                                                                 \n",
            " max_pooling1d_1 (MaxPoolin  (None, 594, 512)          0         \n",
            " g1D)                                                            \n",
            "                                                                 \n",
            " conv1d_2 (Conv1D)           (None, 594, 256)          655616    \n",
            "                                                                 \n",
            " batch_normalization_2 (Bat  (None, 594, 256)          1024      \n",
            " chNormalization)                                                \n",
            "                                                                 \n",
            " max_pooling1d_2 (MaxPoolin  (None, 297, 256)          0         \n",
            " g1D)                                                            \n",
            "                                                                 \n",
            " conv1d_3 (Conv1D)           (None, 297, 256)          196864    \n",
            "                                                                 \n",
            " batch_normalization_3 (Bat  (None, 297, 256)          1024      \n",
            " chNormalization)                                                \n",
            "                                                                 \n",
            " max_pooling1d_3 (MaxPoolin  (None, 149, 256)          0         \n",
            " g1D)                                                            \n",
            "                                                                 \n",
            " conv1d_4 (Conv1D)           (None, 149, 128)          98432     \n",
            "                                                                 \n",
            " batch_normalization_4 (Bat  (None, 149, 128)          512       \n",
            " chNormalization)                                                \n",
            "                                                                 \n",
            " max_pooling1d_4 (MaxPoolin  (None, 75, 128)           0         \n",
            " g1D)                                                            \n",
            "                                                                 \n",
            " flatten (Flatten)           (None, 9600)              0         \n",
            "                                                                 \n",
            " dense (Dense)               (None, 512)               4915712   \n",
            "                                                                 \n",
            " batch_normalization_5 (Bat  (None, 512)               2048      \n",
            " chNormalization)                                                \n",
            "                                                                 \n",
            " dense_1 (Dense)             (None, 7)                 3591      \n",
            "                                                                 \n",
            "=================================================================\n",
            "Total params: 7193223 (27.44 MB)\n",
            "Trainable params: 7188871 (27.42 MB)\n",
            "Non-trainable params: 4352 (17.00 KB)\n",
            "_________________________________________________________________\n"
          ]
        }
      ],
      "source": [
        "# @title\n",
        "model_new = tf.keras.models.load_model(\"res_model.h5\")\n",
        "model_new.summary()"
      ]
    },
    {
      "cell_type": "code",
      "execution_count": 22,
      "metadata": {
        "id": "U1CLrmnPOH37"
      },
      "outputs": [],
      "source": [
        "def zcr(data,frame_length=2048,hop_length=512):\n",
        "    zcr=librosa.feature.zero_crossing_rate(y=data,frame_length=frame_length,hop_length=hop_length)\n",
        "    return np.squeeze(zcr)\n",
        "def rmse(data,frame_length=2048,hop_length=512):\n",
        "    rmse=librosa.feature.rms(y=data,frame_length=frame_length,hop_length=hop_length)\n",
        "    return np.squeeze(rmse)\n",
        "def mfcc(data,sr,frame_length=2048,hop_length=512,flatten:bool=True):\n",
        "    mfcc=librosa.feature.mfcc(y=data,sr=sr)\n",
        "    return np.squeeze(mfcc.T)if not flatten else np.ravel(mfcc.T)\n",
        "\n",
        "def extract_features(data,sr,frame_length=2048,hop_length=512):\n",
        "    result=np.array([])\n",
        "\n",
        "    result=np.hstack((result,\n",
        "                      zcr(data,frame_length,hop_length),\n",
        "                      rmse(data,frame_length,hop_length),\n",
        "                      mfcc(data,sr,frame_length,hop_length)\n",
        "                     ))\n",
        "    return result"
      ]
    },
    {
      "cell_type": "code",
      "execution_count": 32,
      "metadata": {
        "id": "_aydxKGBTBPu"
      },
      "outputs": [],
      "source": [
        "path=\"wav.wav\"\n",
        "data,sr=librosa.load(path,duration=2.5,offset=0.6)\n"
      ]
    },
    {
      "cell_type": "code",
      "execution_count": 33,
      "metadata": {
        "id": "qRnVlCWUS-_O"
      },
      "outputs": [],
      "source": [
        "aud=extract_features(data,sr)\n",
        "aud\n",
        "aud=[aud, aud, aud, aud, aud]"
      ]
    },
    {
      "cell_type": "code",
      "execution_count": 34,
      "metadata": {
        "colab": {
          "base_uri": "https://localhost:8080/",
          "height": 300
        },
        "id": "-Ys_wmJRUOSI",
        "outputId": "910e2757-9c8d-4ea0-e418-c2d73efcbd81"
      },
      "outputs": [
        {
          "data": {
            "text/html": [
              "<div>\n",
              "<style scoped>\n",
              "    .dataframe tbody tr th:only-of-type {\n",
              "        vertical-align: middle;\n",
              "    }\n",
              "\n",
              "    .dataframe tbody tr th {\n",
              "        vertical-align: top;\n",
              "    }\n",
              "\n",
              "    .dataframe thead th {\n",
              "        text-align: right;\n",
              "    }\n",
              "</style>\n",
              "<table border=\"1\" class=\"dataframe\">\n",
              "  <thead>\n",
              "    <tr style=\"text-align: right;\">\n",
              "      <th></th>\n",
              "      <th>0</th>\n",
              "      <th>1</th>\n",
              "      <th>2</th>\n",
              "      <th>3</th>\n",
              "      <th>4</th>\n",
              "      <th>5</th>\n",
              "      <th>6</th>\n",
              "      <th>7</th>\n",
              "      <th>8</th>\n",
              "      <th>9</th>\n",
              "      <th>...</th>\n",
              "      <th>2366</th>\n",
              "      <th>2367</th>\n",
              "      <th>2368</th>\n",
              "      <th>2369</th>\n",
              "      <th>2370</th>\n",
              "      <th>2371</th>\n",
              "      <th>2372</th>\n",
              "      <th>2373</th>\n",
              "      <th>2374</th>\n",
              "      <th>2375</th>\n",
              "    </tr>\n",
              "  </thead>\n",
              "  <tbody>\n",
              "    <tr>\n",
              "      <th>0</th>\n",
              "      <td>0.052246</td>\n",
              "      <td>0.074219</td>\n",
              "      <td>0.102539</td>\n",
              "      <td>0.097656</td>\n",
              "      <td>0.094238</td>\n",
              "      <td>0.089355</td>\n",
              "      <td>0.07959</td>\n",
              "      <td>0.07666</td>\n",
              "      <td>0.074707</td>\n",
              "      <td>0.087402</td>\n",
              "      <td>...</td>\n",
              "      <td>-22.70079</td>\n",
              "      <td>-19.315344</td>\n",
              "      <td>-3.813098</td>\n",
              "      <td>-1.391756</td>\n",
              "      <td>1.935263</td>\n",
              "      <td>-16.947777</td>\n",
              "      <td>7.346428</td>\n",
              "      <td>-6.165598</td>\n",
              "      <td>5.942199</td>\n",
              "      <td>19.050514</td>\n",
              "    </tr>\n",
              "    <tr>\n",
              "      <th>1</th>\n",
              "      <td>0.052246</td>\n",
              "      <td>0.074219</td>\n",
              "      <td>0.102539</td>\n",
              "      <td>0.097656</td>\n",
              "      <td>0.094238</td>\n",
              "      <td>0.089355</td>\n",
              "      <td>0.07959</td>\n",
              "      <td>0.07666</td>\n",
              "      <td>0.074707</td>\n",
              "      <td>0.087402</td>\n",
              "      <td>...</td>\n",
              "      <td>-22.70079</td>\n",
              "      <td>-19.315344</td>\n",
              "      <td>-3.813098</td>\n",
              "      <td>-1.391756</td>\n",
              "      <td>1.935263</td>\n",
              "      <td>-16.947777</td>\n",
              "      <td>7.346428</td>\n",
              "      <td>-6.165598</td>\n",
              "      <td>5.942199</td>\n",
              "      <td>19.050514</td>\n",
              "    </tr>\n",
              "    <tr>\n",
              "      <th>2</th>\n",
              "      <td>0.052246</td>\n",
              "      <td>0.074219</td>\n",
              "      <td>0.102539</td>\n",
              "      <td>0.097656</td>\n",
              "      <td>0.094238</td>\n",
              "      <td>0.089355</td>\n",
              "      <td>0.07959</td>\n",
              "      <td>0.07666</td>\n",
              "      <td>0.074707</td>\n",
              "      <td>0.087402</td>\n",
              "      <td>...</td>\n",
              "      <td>-22.70079</td>\n",
              "      <td>-19.315344</td>\n",
              "      <td>-3.813098</td>\n",
              "      <td>-1.391756</td>\n",
              "      <td>1.935263</td>\n",
              "      <td>-16.947777</td>\n",
              "      <td>7.346428</td>\n",
              "      <td>-6.165598</td>\n",
              "      <td>5.942199</td>\n",
              "      <td>19.050514</td>\n",
              "    </tr>\n",
              "    <tr>\n",
              "      <th>3</th>\n",
              "      <td>0.052246</td>\n",
              "      <td>0.074219</td>\n",
              "      <td>0.102539</td>\n",
              "      <td>0.097656</td>\n",
              "      <td>0.094238</td>\n",
              "      <td>0.089355</td>\n",
              "      <td>0.07959</td>\n",
              "      <td>0.07666</td>\n",
              "      <td>0.074707</td>\n",
              "      <td>0.087402</td>\n",
              "      <td>...</td>\n",
              "      <td>-22.70079</td>\n",
              "      <td>-19.315344</td>\n",
              "      <td>-3.813098</td>\n",
              "      <td>-1.391756</td>\n",
              "      <td>1.935263</td>\n",
              "      <td>-16.947777</td>\n",
              "      <td>7.346428</td>\n",
              "      <td>-6.165598</td>\n",
              "      <td>5.942199</td>\n",
              "      <td>19.050514</td>\n",
              "    </tr>\n",
              "    <tr>\n",
              "      <th>4</th>\n",
              "      <td>0.052246</td>\n",
              "      <td>0.074219</td>\n",
              "      <td>0.102539</td>\n",
              "      <td>0.097656</td>\n",
              "      <td>0.094238</td>\n",
              "      <td>0.089355</td>\n",
              "      <td>0.07959</td>\n",
              "      <td>0.07666</td>\n",
              "      <td>0.074707</td>\n",
              "      <td>0.087402</td>\n",
              "      <td>...</td>\n",
              "      <td>-22.70079</td>\n",
              "      <td>-19.315344</td>\n",
              "      <td>-3.813098</td>\n",
              "      <td>-1.391756</td>\n",
              "      <td>1.935263</td>\n",
              "      <td>-16.947777</td>\n",
              "      <td>7.346428</td>\n",
              "      <td>-6.165598</td>\n",
              "      <td>5.942199</td>\n",
              "      <td>19.050514</td>\n",
              "    </tr>\n",
              "  </tbody>\n",
              "</table>\n",
              "<p>5 rows × 2376 columns</p>\n",
              "</div>"
            ],
            "text/plain": [
              "       0         1         2         3         4         5        6     \\\n",
              "0  0.052246  0.074219  0.102539  0.097656  0.094238  0.089355  0.07959   \n",
              "1  0.052246  0.074219  0.102539  0.097656  0.094238  0.089355  0.07959   \n",
              "2  0.052246  0.074219  0.102539  0.097656  0.094238  0.089355  0.07959   \n",
              "3  0.052246  0.074219  0.102539  0.097656  0.094238  0.089355  0.07959   \n",
              "4  0.052246  0.074219  0.102539  0.097656  0.094238  0.089355  0.07959   \n",
              "\n",
              "      7         8         9     ...      2366       2367      2368      2369  \\\n",
              "0  0.07666  0.074707  0.087402  ... -22.70079 -19.315344 -3.813098 -1.391756   \n",
              "1  0.07666  0.074707  0.087402  ... -22.70079 -19.315344 -3.813098 -1.391756   \n",
              "2  0.07666  0.074707  0.087402  ... -22.70079 -19.315344 -3.813098 -1.391756   \n",
              "3  0.07666  0.074707  0.087402  ... -22.70079 -19.315344 -3.813098 -1.391756   \n",
              "4  0.07666  0.074707  0.087402  ... -22.70079 -19.315344 -3.813098 -1.391756   \n",
              "\n",
              "       2370       2371      2372      2373      2374       2375  \n",
              "0  1.935263 -16.947777  7.346428 -6.165598  5.942199  19.050514  \n",
              "1  1.935263 -16.947777  7.346428 -6.165598  5.942199  19.050514  \n",
              "2  1.935263 -16.947777  7.346428 -6.165598  5.942199  19.050514  \n",
              "3  1.935263 -16.947777  7.346428 -6.165598  5.942199  19.050514  \n",
              "4  1.935263 -16.947777  7.346428 -6.165598  5.942199  19.050514  \n",
              "\n",
              "[5 rows x 2376 columns]"
            ]
          },
          "execution_count": 34,
          "metadata": {},
          "output_type": "execute_result"
        }
      ],
      "source": [
        "dfpredict=pd.DataFrame(aud)\n",
        "dfpredict"
      ]
    },
    {
      "cell_type": "code",
      "execution_count": 35,
      "metadata": {
        "colab": {
          "base_uri": "https://localhost:8080/",
          "height": 300
        },
        "id": "35TTwKdgaoXs",
        "outputId": "850f92f1-a655-4bd7-9ea6-116d05c1eb50"
      },
      "outputs": [
        {
          "data": {
            "text/html": [
              "<div>\n",
              "<style scoped>\n",
              "    .dataframe tbody tr th:only-of-type {\n",
              "        vertical-align: middle;\n",
              "    }\n",
              "\n",
              "    .dataframe tbody tr th {\n",
              "        vertical-align: top;\n",
              "    }\n",
              "\n",
              "    .dataframe thead th {\n",
              "        text-align: right;\n",
              "    }\n",
              "</style>\n",
              "<table border=\"1\" class=\"dataframe\">\n",
              "  <thead>\n",
              "    <tr style=\"text-align: right;\">\n",
              "      <th></th>\n",
              "      <th>0</th>\n",
              "      <th>1</th>\n",
              "      <th>2</th>\n",
              "      <th>3</th>\n",
              "      <th>4</th>\n",
              "      <th>5</th>\n",
              "      <th>6</th>\n",
              "      <th>7</th>\n",
              "      <th>8</th>\n",
              "      <th>9</th>\n",
              "      <th>...</th>\n",
              "      <th>2366</th>\n",
              "      <th>2367</th>\n",
              "      <th>2368</th>\n",
              "      <th>2369</th>\n",
              "      <th>2370</th>\n",
              "      <th>2371</th>\n",
              "      <th>2372</th>\n",
              "      <th>2373</th>\n",
              "      <th>2374</th>\n",
              "      <th>2375</th>\n",
              "    </tr>\n",
              "  </thead>\n",
              "  <tbody>\n",
              "    <tr>\n",
              "      <th>0</th>\n",
              "      <td>0.052246</td>\n",
              "      <td>0.074219</td>\n",
              "      <td>0.102539</td>\n",
              "      <td>0.097656</td>\n",
              "      <td>0.094238</td>\n",
              "      <td>0.089355</td>\n",
              "      <td>0.07959</td>\n",
              "      <td>0.07666</td>\n",
              "      <td>0.074707</td>\n",
              "      <td>0.087402</td>\n",
              "      <td>...</td>\n",
              "      <td>-22.70079</td>\n",
              "      <td>-19.315344</td>\n",
              "      <td>-3.813098</td>\n",
              "      <td>-1.391756</td>\n",
              "      <td>1.935263</td>\n",
              "      <td>-16.947777</td>\n",
              "      <td>7.346428</td>\n",
              "      <td>-6.165598</td>\n",
              "      <td>5.942199</td>\n",
              "      <td>19.050514</td>\n",
              "    </tr>\n",
              "    <tr>\n",
              "      <th>1</th>\n",
              "      <td>0.052246</td>\n",
              "      <td>0.074219</td>\n",
              "      <td>0.102539</td>\n",
              "      <td>0.097656</td>\n",
              "      <td>0.094238</td>\n",
              "      <td>0.089355</td>\n",
              "      <td>0.07959</td>\n",
              "      <td>0.07666</td>\n",
              "      <td>0.074707</td>\n",
              "      <td>0.087402</td>\n",
              "      <td>...</td>\n",
              "      <td>-22.70079</td>\n",
              "      <td>-19.315344</td>\n",
              "      <td>-3.813098</td>\n",
              "      <td>-1.391756</td>\n",
              "      <td>1.935263</td>\n",
              "      <td>-16.947777</td>\n",
              "      <td>7.346428</td>\n",
              "      <td>-6.165598</td>\n",
              "      <td>5.942199</td>\n",
              "      <td>19.050514</td>\n",
              "    </tr>\n",
              "    <tr>\n",
              "      <th>2</th>\n",
              "      <td>0.052246</td>\n",
              "      <td>0.074219</td>\n",
              "      <td>0.102539</td>\n",
              "      <td>0.097656</td>\n",
              "      <td>0.094238</td>\n",
              "      <td>0.089355</td>\n",
              "      <td>0.07959</td>\n",
              "      <td>0.07666</td>\n",
              "      <td>0.074707</td>\n",
              "      <td>0.087402</td>\n",
              "      <td>...</td>\n",
              "      <td>-22.70079</td>\n",
              "      <td>-19.315344</td>\n",
              "      <td>-3.813098</td>\n",
              "      <td>-1.391756</td>\n",
              "      <td>1.935263</td>\n",
              "      <td>-16.947777</td>\n",
              "      <td>7.346428</td>\n",
              "      <td>-6.165598</td>\n",
              "      <td>5.942199</td>\n",
              "      <td>19.050514</td>\n",
              "    </tr>\n",
              "    <tr>\n",
              "      <th>3</th>\n",
              "      <td>0.052246</td>\n",
              "      <td>0.074219</td>\n",
              "      <td>0.102539</td>\n",
              "      <td>0.097656</td>\n",
              "      <td>0.094238</td>\n",
              "      <td>0.089355</td>\n",
              "      <td>0.07959</td>\n",
              "      <td>0.07666</td>\n",
              "      <td>0.074707</td>\n",
              "      <td>0.087402</td>\n",
              "      <td>...</td>\n",
              "      <td>-22.70079</td>\n",
              "      <td>-19.315344</td>\n",
              "      <td>-3.813098</td>\n",
              "      <td>-1.391756</td>\n",
              "      <td>1.935263</td>\n",
              "      <td>-16.947777</td>\n",
              "      <td>7.346428</td>\n",
              "      <td>-6.165598</td>\n",
              "      <td>5.942199</td>\n",
              "      <td>19.050514</td>\n",
              "    </tr>\n",
              "    <tr>\n",
              "      <th>4</th>\n",
              "      <td>0.052246</td>\n",
              "      <td>0.074219</td>\n",
              "      <td>0.102539</td>\n",
              "      <td>0.097656</td>\n",
              "      <td>0.094238</td>\n",
              "      <td>0.089355</td>\n",
              "      <td>0.07959</td>\n",
              "      <td>0.07666</td>\n",
              "      <td>0.074707</td>\n",
              "      <td>0.087402</td>\n",
              "      <td>...</td>\n",
              "      <td>-22.70079</td>\n",
              "      <td>-19.315344</td>\n",
              "      <td>-3.813098</td>\n",
              "      <td>-1.391756</td>\n",
              "      <td>1.935263</td>\n",
              "      <td>-16.947777</td>\n",
              "      <td>7.346428</td>\n",
              "      <td>-6.165598</td>\n",
              "      <td>5.942199</td>\n",
              "      <td>19.050514</td>\n",
              "    </tr>\n",
              "  </tbody>\n",
              "</table>\n",
              "<p>5 rows × 2376 columns</p>\n",
              "</div>"
            ],
            "text/plain": [
              "       0         1         2         3         4         5        6     \\\n",
              "0  0.052246  0.074219  0.102539  0.097656  0.094238  0.089355  0.07959   \n",
              "1  0.052246  0.074219  0.102539  0.097656  0.094238  0.089355  0.07959   \n",
              "2  0.052246  0.074219  0.102539  0.097656  0.094238  0.089355  0.07959   \n",
              "3  0.052246  0.074219  0.102539  0.097656  0.094238  0.089355  0.07959   \n",
              "4  0.052246  0.074219  0.102539  0.097656  0.094238  0.089355  0.07959   \n",
              "\n",
              "      7         8         9     ...      2366       2367      2368      2369  \\\n",
              "0  0.07666  0.074707  0.087402  ... -22.70079 -19.315344 -3.813098 -1.391756   \n",
              "1  0.07666  0.074707  0.087402  ... -22.70079 -19.315344 -3.813098 -1.391756   \n",
              "2  0.07666  0.074707  0.087402  ... -22.70079 -19.315344 -3.813098 -1.391756   \n",
              "3  0.07666  0.074707  0.087402  ... -22.70079 -19.315344 -3.813098 -1.391756   \n",
              "4  0.07666  0.074707  0.087402  ... -22.70079 -19.315344 -3.813098 -1.391756   \n",
              "\n",
              "       2370       2371      2372      2373      2374       2375  \n",
              "0  1.935263 -16.947777  7.346428 -6.165598  5.942199  19.050514  \n",
              "1  1.935263 -16.947777  7.346428 -6.165598  5.942199  19.050514  \n",
              "2  1.935263 -16.947777  7.346428 -6.165598  5.942199  19.050514  \n",
              "3  1.935263 -16.947777  7.346428 -6.165598  5.942199  19.050514  \n",
              "4  1.935263 -16.947777  7.346428 -6.165598  5.942199  19.050514  \n",
              "\n",
              "[5 rows x 2376 columns]"
            ]
          },
          "execution_count": 35,
          "metadata": {},
          "output_type": "execute_result"
        }
      ],
      "source": [
        "dfpredict=dfpredict.fillna(0)\n",
        "dfpredict"
      ]
    },
    {
      "cell_type": "code",
      "execution_count": 36,
      "metadata": {
        "colab": {
          "base_uri": "https://localhost:8080/"
        },
        "id": "DIpPzNzNatlw",
        "outputId": "9f817216-5960-4783-e615-527d97609373"
      },
      "outputs": [
        {
          "data": {
            "text/plain": [
              "(5, 2376)"
            ]
          },
          "execution_count": 36,
          "metadata": {},
          "output_type": "execute_result"
        }
      ],
      "source": [
        "scaler=StandardScaler()\n",
        "predict_data=scaler.fit_transform(dfpredict)\n",
        "predict_data\n",
        "predict_data.shape\n"
      ]
    },
    {
      "cell_type": "code",
      "execution_count": 37,
      "metadata": {
        "colab": {
          "base_uri": "https://localhost:8080/"
        },
        "id": "GBtbXZntbAXg",
        "outputId": "4cbb3697-3738-4a23-f44b-4944adc4412c"
      },
      "outputs": [
        {
          "data": {
            "text/plain": [
              "(5, 2376, 1)"
            ]
          },
          "execution_count": 37,
          "metadata": {},
          "output_type": "execute_result"
        }
      ],
      "source": [
        "predict_data=np.expand_dims(predict_data,axis=2)\n",
        "predict_data\n",
        "predict_data.shape"
      ]
    },
    {
      "cell_type": "code",
      "execution_count": 38,
      "metadata": {
        "colab": {
          "base_uri": "https://localhost:8080/"
        },
        "id": "n1OlwDmUXU2u",
        "outputId": "5482d3d9-9460-49dd-f0bb-cbe75ce36b32"
      },
      "outputs": [
        {
          "name": "stdout",
          "output_type": "stream",
          "text": [
            "1/1 [==============================] - 0s 306ms/step\n"
          ]
        },
        {
          "data": {
            "text/plain": [
              "array([[4.5249911e-07, 6.9024563e-06, 9.7213483e-01, 6.6039624e-04,\n",
              "        3.4884222e-05, 2.7161483e-02, 1.0148523e-06],\n",
              "       [4.5249911e-07, 6.9024563e-06, 9.7213483e-01, 6.6039624e-04,\n",
              "        3.4884222e-05, 2.7161483e-02, 1.0148523e-06],\n",
              "       [4.5249911e-07, 6.9024563e-06, 9.7213483e-01, 6.6039624e-04,\n",
              "        3.4884222e-05, 2.7161483e-02, 1.0148523e-06],\n",
              "       [4.5249911e-07, 6.9024563e-06, 9.7213483e-01, 6.6039624e-04,\n",
              "        3.4884222e-05, 2.7161483e-02, 1.0148523e-06],\n",
              "       [4.5249911e-07, 6.9024563e-06, 9.7213483e-01, 6.6039624e-04,\n",
              "        3.4884222e-05, 2.7161481e-02, 1.0148523e-06]], dtype=float32)"
            ]
          },
          "execution_count": 38,
          "metadata": {},
          "output_type": "execute_result"
        }
      ],
      "source": [
        "data_pred = model_new.predict(predict_data)\n",
        "data_pred\n"
      ]
    },
    {
      "cell_type": "code",
      "execution_count": 39,
      "metadata": {
        "colab": {
          "base_uri": "https://localhost:8080/"
        },
        "id": "x_0ZpiA9b8tJ",
        "outputId": "fa770aad-bdb8-4e07-8d9f-e7fa0d1a2514"
      },
      "outputs": [
        {
          "data": {
            "text/plain": [
              "array([2, 2, 2, 2, 2], dtype=int64)"
            ]
          },
          "execution_count": 39,
          "metadata": {},
          "output_type": "execute_result"
        }
      ],
      "source": [
        "data_pred = np.argmax(data_pred, axis=1)\n",
        "data_pred"
      ]
    }
  ],
  "metadata": {
    "colab": {
      "provenance": []
    },
    "kernelspec": {
      "display_name": "Python 3",
      "name": "python3"
    },
    "language_info": {
      "codemirror_mode": {
        "name": "ipython",
        "version": 3
      },
      "file_extension": ".py",
      "mimetype": "text/x-python",
      "name": "python",
      "nbconvert_exporter": "python",
      "pygments_lexer": "ipython3",
      "version": "3.11.1"
    }
  },
  "nbformat": 4,
  "nbformat_minor": 0
}
